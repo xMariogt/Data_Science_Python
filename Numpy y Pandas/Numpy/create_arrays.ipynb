{
 "cells": [
  {
   "cell_type": "code",
   "execution_count": 11,
   "metadata": {},
   "outputs": [],
   "source": [
    "import numpy as np"
   ]
  },
  {
   "cell_type": "code",
   "execution_count": 12,
   "metadata": {},
   "outputs": [
    {
     "data": {
      "text/plain": [
       "[0, 1, 2, 3, 4, 5, 6, 7, 8, 9]"
      ]
     },
     "execution_count": 12,
     "metadata": {},
     "output_type": "execute_result"
    }
   ],
   "source": [
    "list(range(0,10))"
   ]
  },
  {
   "cell_type": "code",
   "execution_count": 13,
   "metadata": {},
   "outputs": [
    {
     "data": {
      "text/plain": [
       "array([ 0,  2,  4,  6,  8, 10, 12, 14, 16, 18])"
      ]
     },
     "execution_count": 13,
     "metadata": {},
     "output_type": "execute_result"
    }
   ],
   "source": [
    "np.arange(0,10) #crea un listado con los numeros del 0 a 10\n",
    "np.arange(0,20,2) #lista los numeros de 2 en 2 hasta el 20"
   ]
  },
  {
   "cell_type": "code",
   "execution_count": 14,
   "metadata": {},
   "outputs": [
    {
     "data": {
      "text/plain": [
       "array([[1., 1., 1.],\n",
       "       [1., 1., 1.],\n",
       "       [1., 1., 1.]])"
      ]
     },
     "execution_count": 14,
     "metadata": {},
     "output_type": "execute_result"
    }
   ],
   "source": [
    "np.zeros(3) #crea listas o matrices con 0s\n",
    "np.ones((3,3)) #crea una matriz 3x3 de 1"
   ]
  },
  {
   "cell_type": "code",
   "execution_count": 15,
   "metadata": {},
   "outputs": [
    {
     "data": {
      "text/plain": [
       "array([ 0. ,  2.5,  5. ,  7.5, 10. ])"
      ]
     },
     "execution_count": 15,
     "metadata": {},
     "output_type": "execute_result"
    }
   ],
   "source": [
    "np.linspace(0,10, 5) #obtiene 5 datos del 0 al 10"
   ]
  },
  {
   "cell_type": "code",
   "execution_count": 16,
   "metadata": {},
   "outputs": [
    {
     "data": {
      "text/plain": [
       "array([[1., 0., 0., 0.],\n",
       "       [0., 1., 0., 0.],\n",
       "       [0., 0., 1., 0.],\n",
       "       [0., 0., 0., 1.]])"
      ]
     },
     "execution_count": 16,
     "metadata": {},
     "output_type": "execute_result"
    }
   ],
   "source": [
    "np.eye(4) #crea la matriz con 1 en diagonal"
   ]
  },
  {
   "cell_type": "code",
   "execution_count": 17,
   "metadata": {},
   "outputs": [
    {
     "data": {
      "text/plain": [
       "array([[75, 23, 24,  6, 93, 76, 84,  3, 99, 76],\n",
       "       [80, 57,  5, 97, 41, 17, 63,  1, 12, 62],\n",
       "       [97, 68, 75, 20, 97,  7, 90, 26, 75, 27],\n",
       "       [14, 63, 60, 43, 67, 63, 30, 23, 56, 30],\n",
       "       [13, 43,  4, 57, 85, 86, 21, 82, 92, 15],\n",
       "       [34, 22, 72, 37, 52, 24, 76, 91, 14, 42],\n",
       "       [55, 49, 99, 39, 50, 73, 30, 83, 45, 11],\n",
       "       [66, 47, 96, 85, 82, 91, 61, 12,  9, 78],\n",
       "       [31, 14, 26, 45, 57, 67, 10, 29,  7,  9],\n",
       "       [ 6, 89, 41, 16, 77, 49, 65, 77,  5, 35]])"
      ]
     },
     "execution_count": 17,
     "metadata": {},
     "output_type": "execute_result"
    }
   ],
   "source": [
    "np.random.rand() #genera numeros aleatorios\n",
    "\n",
    "np.random.rand(4,4) #genera una matriz 4x4 de valores aleatorios\n",
    "\n",
    "np.random.randint(1,100, (10,10)) #crea una matriz 10x10 de valores enteros aleatorios"
   ]
  }
 ],
 "metadata": {
  "kernelspec": {
   "display_name": "Python 3",
   "language": "python",
   "name": "python3"
  },
  "language_info": {
   "codemirror_mode": {
    "name": "ipython",
    "version": 3
   },
   "file_extension": ".py",
   "mimetype": "text/x-python",
   "name": "python",
   "nbconvert_exporter": "python",
   "pygments_lexer": "ipython3",
   "version": "3.9.7"
  },
  "orig_nbformat": 4
 },
 "nbformat": 4,
 "nbformat_minor": 2
}
